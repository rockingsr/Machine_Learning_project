{
  "nbformat": 4,
  "nbformat_minor": 0,
  "metadata": {
    "colab": {
      "name": "machineLearning2(LossRecovering).ipynb",
      "provenance": [],
      "authorship_tag": "ABX9TyNEE2bDh5wV+49RyNKjDVVx",
      "include_colab_link": true
    },
    "kernelspec": {
      "name": "python3",
      "display_name": "Python 3"
    },
    "language_info": {
      "name": "python"
    }
  },
  "cells": [
    {
      "cell_type": "markdown",
      "metadata": {
        "id": "view-in-github",
        "colab_type": "text"
      },
      "source": [
        "<a href=\"https://colab.research.google.com/github/rockingsr/Machine_Learning_project/blob/master/machineLearning2(LossRecovering).ipynb\" target=\"_parent\"><img src=\"https://colab.research.google.com/assets/colab-badge.svg\" alt=\"Open In Colab\"/></a>"
      ]
    },
    {
      "cell_type": "code",
      "metadata": {
        "id": "IfIZHxCkPKYZ"
      },
      "source": [
        "import numpy as np\n",
        "x=[]\n",
        "y=[]\n",
        "for i in range(2000,400000):\n",
        "  x.append(i)\n",
        "  y.append(2*i+3+2*np.random.random())           #CREATING A RANDOM DATA USING THE NUMPY\n",
        "x=np.array(x)\n",
        "y=np.array(y)\n"
      ],
      "execution_count": 2,
      "outputs": []
    },
    {
      "cell_type": "code",
      "metadata": {
        "colab": {
          "base_uri": "https://localhost:8080/"
        },
        "id": "9oC57ikqPpsk",
        "outputId": "e1a56068-3b3d-44d3-8a26-797dbc9a7dca"
      },
      "source": [
        "x[0:20]"
      ],
      "execution_count": 3,
      "outputs": [
        {
          "output_type": "execute_result",
          "data": {
            "text/plain": [
              "array([2000, 2001, 2002, 2003, 2004, 2005, 2006, 2007, 2008, 2009, 2010,\n",
              "       2011, 2012, 2013, 2014, 2015, 2016, 2017, 2018, 2019])"
            ]
          },
          "metadata": {
            "tags": []
          },
          "execution_count": 3
        }
      ]
    },
    {
      "cell_type": "code",
      "metadata": {
        "colab": {
          "base_uri": "https://localhost:8080/"
        },
        "id": "ezTyWbMzP0iX",
        "outputId": "3c374aaf-c673-4335-f711-1f67cb613469"
      },
      "source": [
        "y[0:20]"
      ],
      "execution_count": 4,
      "outputs": [
        {
          "output_type": "execute_result",
          "data": {
            "text/plain": [
              "array([4003.1619949 , 4005.23655625, 4008.80497555, 4009.8124439 ,\n",
              "       4012.13845588, 4013.9110249 , 4016.59323553, 4018.62300467,\n",
              "       4019.49440063, 4022.88505433, 4024.50526068, 4026.58144356,\n",
              "       4027.70432903, 4030.97520595, 4031.47439016, 4033.61969072,\n",
              "       4036.89855715, 4037.57677928, 4040.44322778, 4042.06574536])"
            ]
          },
          "metadata": {
            "tags": []
          },
          "execution_count": 4
        }
      ]
    },
    {
      "cell_type": "code",
      "metadata": {
        "colab": {
          "base_uri": "https://localhost:8080/"
        },
        "id": "yYXO1HS5P4Wi",
        "outputId": "7c3b1070-05e1-47b0-bec6-686c94d81604"
      },
      "source": [
        "w0 = 1\n",
        "w1 = .2\n",
        "yp = w0+w1*x                  #PREDICTING THE VALYE OVER THE PROVIDED DATA\n",
        "yp[0:20]"
      ],
      "execution_count": 42,
      "outputs": [
        {
          "output_type": "execute_result",
          "data": {
            "text/plain": [
              "array([401. , 401.2, 401.4, 401.6, 401.8, 402. , 402.2, 402.4, 402.6,\n",
              "       402.8, 403. , 403.2, 403.4, 403.6, 403.8, 404. , 404.2, 404.4,\n",
              "       404.6, 404.8])"
            ]
          },
          "metadata": {
            "tags": []
          },
          "execution_count": 42
        }
      ]
    },
    {
      "cell_type": "code",
      "metadata": {
        "colab": {
          "base_uri": "https://localhost:8080/",
          "height": 283
        },
        "id": "t-L-VcZtSzCS",
        "outputId": "ff6718f1-b184-40fa-db29-bafe8814ddc5"
      },
      "source": [
        "import matplotlib.pyplot as plt\n",
        "plt.scatter(x,y,color=\"red\")\n",
        "plt.plot(x,yp,color=\"green\")              #PREDICTED DATA HAS A HUGE DIFFERENCE FROM THE ORIGINAL DATA"
      ],
      "execution_count": 43,
      "outputs": [
        {
          "output_type": "execute_result",
          "data": {
            "text/plain": [
              "[<matplotlib.lines.Line2D at 0x7fde8004b110>]"
            ]
          },
          "metadata": {
            "tags": []
          },
          "execution_count": 43
        },
        {
          "output_type": "display_data",
          "data": {
            "image/png": "[encoded data removed]",
            "text/plain": [
              "<Figure size 432x288 with 1 Axes>"
            ]
          },
          "metadata": {
            "tags": [],
            "needs_background": "light"
          }
        }
      ]
    },
    {
      "cell_type": "code",
      "metadata": {
        "colab": {
          "base_uri": "https://localhost:8080/"
        },
        "id": "70Oaqt4iQD4I",
        "outputId": "c19968c8-722e-4ddd-9c52-4b7792ae7a3e"
      },
      "source": [
        "loss = sum((yp-y)**2)/len(x)                                #CALCULATING THE DIFFERENCE BETWEEN THE PREDICTED AND ORIGINAL VALUES...\n",
        "loss                               "
      ],
      "execution_count": 32,
      "outputs": [
        {
          "output_type": "execute_result",
          "data": {
            "text/plain": [
              "173669839864.40637"
            ]
          },
          "metadata": {
            "tags": []
          },
          "execution_count": 32
        }
      ]
    },
    {
      "cell_type": "code",
      "metadata": {
        "colab": {
          "base_uri": "https://localhost:8080/"
        },
        "id": "bKSw2hLCQUDB",
        "outputId": "a5f9144a-0f94-4400-cde2-6590ae1be7ff"
      },
      "source": [
        "a = 0\n",
        "w0 = 1                               #RECOVERING THE LOSS BY USING GREDIENT DESCENT LEARNING TECHNIQUE TO IMPROVE THE PREDICTION\n",
        "w1 = .2\n",
        "alpha = .00000000001\n",
        "while(a<100):\n",
        "  yp = w0+w1*x\n",
        "  loss = sum((yp-y)**2)/len(x)\n",
        "  print(loss)\n",
        "  dw0 = sum(yp-y)*(2/len(x))\n",
        "  dw1 = sum((yp-y)*x)*(2/len(x))\n",
        "  w0 = w0-alpha*dw0\n",
        "  w1 = w1-alpha*dw1\n",
        "  a=a+1\n",
        "\n"
      ],
      "execution_count": 34,
      "outputs": [
        {
          "output_type": "stream",
          "text": [
            "173669839864.40637\n",
            "900870900.1129922\n",
            "4673055.595653913\n",
            "24242.89894960695\n",
            "128.29119723898663\n",
            "3.202417590063187\n",
            "2.553549362387057\n",
            "2.550183513085855\n",
            "2.5501660535324353\n",
            "2.55016596293499\n",
            "2.550165962422555\n",
            "2.5501659623897295\n",
            "2.5501659624360067\n",
            "2.5501659624055413\n",
            "2.550165962362906\n",
            "2.550165962332547\n",
            "2.550165962320338\n",
            "2.5501659622900616\n",
            "2.550165962247538\n",
            "2.5501659622171897\n",
            "2.5501659622633066\n",
            "2.5501659622329735\n",
            "2.5501659621889843\n",
            "2.5501659621586414\n",
            "2.5501659621464294\n",
            "2.5501659621161137\n",
            "2.550165962073675\n",
            "2.5501659620433768\n",
            "2.5501659620895216\n",
            "2.550165962059219\n",
            "2.5501659620164525\n",
            "2.55016596198609\n",
            "2.550165961973886\n",
            "2.5501659619435286\n",
            "2.55016596190102\n",
            "2.5501659618706953\n",
            "2.550165961916834\n",
            "2.5501659618866466\n",
            "2.5501659618261345\n",
            "2.5501659618139625\n",
            "2.550165961783608\n",
            "2.550165961741143\n",
            "2.5501659617107304\n",
            "2.550165961756872\n",
            "2.550165961726661\n",
            "2.550165961684189\n",
            "2.5501659616533985\n",
            "2.5501659616412313\n",
            "2.550165961610861\n",
            "2.550165961568541\n",
            "2.550165961538075\n",
            "2.5501659615842707\n",
            "2.550165961553949\n",
            "2.550165961511568\n",
            "2.550165961479607\n",
            "2.550165961467405\n",
            "2.5501659614370555\n",
            "2.5501659613947543\n",
            "2.5501659613643453\n",
            "2.5501659614105563\n",
            "2.5501659613799625\n",
            "2.550165961337672\n",
            "2.5501659613073118\n",
            "2.5501659612947294\n",
            "2.550165961264344\n",
            "2.5501659612219614\n",
            "2.5501659611916745\n",
            "2.550165961237791\n",
            "2.550165961207487\n",
            "2.550165961165136\n",
            "2.550165961134863\n",
            "2.5501659611168073\n",
            "2.550165961086482\n",
            "2.550165961044078\n",
            "2.550165961013734\n",
            "2.550165961059861\n",
            "2.5501659610294953\n",
            "2.5501659609871328\n",
            "2.5501659609568033\n",
            "2.550165960944194\n",
            "2.5501659609138345\n",
            "2.5501659608713942\n",
            "2.550165960841066\n",
            "2.5501659608871066\n",
            "2.5501659608567726\n",
            "2.5501659608144203\n",
            "2.5501659607840694\n",
            "2.550165960770241\n",
            "2.550165960739925\n",
            "2.5501659606974636\n",
            "2.5501659606671616\n",
            "2.5501659607132035\n",
            "2.5501659606830076\n",
            "2.550165960640609\n",
            "2.5501659606102884\n",
            "2.550165960597669\n",
            "2.550165960567366\n",
            "2.550165960524972\n",
            "2.5501659604946703\n",
            "2.5501659605407547\n"
          ],
          "name": "stdout"
        }
      ]
    },
    {
      "cell_type": "code",
      "metadata": {
        "colab": {
          "base_uri": "https://localhost:8080/"
        },
        "id": "h5582ei8R3ig",
        "outputId": "d28b95d1-71f1-4b10-da03-d231a5c75beb"
      },
      "source": [
        "yp[0:20]       #new predicted value"
      ],
      "execution_count": 35,
      "outputs": [
        {
          "output_type": "execute_result",
          "data": {
            "text/plain": [
              "array([4001.02250928, 4003.02252053, 4005.02253178, 4007.02254303,\n",
              "       4009.02255428, 4011.02256553, 4013.02257679, 4015.02258804,\n",
              "       4017.02259929, 4019.02261054, 4021.02262179, 4023.02263304,\n",
              "       4025.02264429, 4027.02265554, 4029.0226668 , 4031.02267805,\n",
              "       4033.0226893 , 4035.02270055, 4037.0227118 , 4039.02272305])"
            ]
          },
          "metadata": {
            "tags": []
          },
          "execution_count": 35
        }
      ]
    },
    {
      "cell_type": "code",
      "metadata": {
        "colab": {
          "base_uri": "https://localhost:8080/"
        },
        "id": "8ejvgzzBTAXo",
        "outputId": "4c0dc85e-91f0-4046-80dd-b8288364d9df"
      },
      "source": [
        "w0"
      ],
      "execution_count": 36,
      "outputs": [
        {
          "output_type": "execute_result",
          "data": {
            "text/plain": [
              "1.0000067513605357"
            ]
          },
          "metadata": {
            "tags": []
          },
          "execution_count": 36
        }
      ]
    },
    {
      "cell_type": "code",
      "metadata": {
        "colab": {
          "base_uri": "https://localhost:8080/"
        },
        "id": "qsfvypuHTFVZ",
        "outputId": "a0405fc3-c24f-4594-c85e-26a377bfb22a"
      },
      "source": [
        "w1"
      ],
      "execution_count": 37,
      "outputs": [
        {
          "output_type": "execute_result",
          "data": {
            "text/plain": [
              "2.0000112512633743"
            ]
          },
          "metadata": {
            "tags": []
          },
          "execution_count": 37
        }
      ]
    },
    {
      "cell_type": "code",
      "metadata": {
        "colab": {
          "base_uri": "https://localhost:8080/",
          "height": 283
        },
        "id": "dafmpLyqSbDI",
        "outputId": "a6e85ff0-39ba-4ee0-c749-b882f1402314"
      },
      "source": [
        "import matplotlib.pyplot as plt                           #actual model and predicted model has nearby same prediction\n",
        "plt.scatter(x,y,color=\"red\")\n",
        "plt.plot(x,yp,color=\"green\")"
      ],
      "execution_count": 40,
      "outputs": [
        {
          "output_type": "execute_result",
          "data": {
            "text/plain": [
              "[<matplotlib.lines.Line2D at 0x7fde8017ec10>]"
            ]
          },
          "metadata": {
            "tags": []
          },
          "execution_count": 40
        },
        {
          "output_type": "display_data",
          "data": {
            "image/png": "[encoded data removed]",
            "text/plain": [
              "<Figure size 432x288 with 1 Axes>"
            ]
          },
          "metadata": {
            "tags": [],
            "needs_background": "light"
          }
        }
      ]
    }
  ]
}